{
 "cells": [
  {
   "cell_type": "code",
   "execution_count": 34,
   "id": "5d5a8c25-6b1f-4f79-a6eb-9fd0104be583",
   "metadata": {},
   "outputs": [],
   "source": [
    "import pandas            as pd\n",
    "import numpy             as np\n",
    "import seaborn           as sns\n",
    "import matplotlib.pyplot as plt\n",
    "\n",
    "from scipy import stats\n",
    "\n",
    "%matplotlib inline"
   ]
  },
  {
   "cell_type": "code",
   "execution_count": 22,
   "id": "6071b39c-bfd6-4edc-a55c-bc5d3c5cd60f",
   "metadata": {},
   "outputs": [],
   "source": [
    "sns.set(\n",
    "    font_scale = 1,\n",
    "    style = 'whitegrid',\n",
    "    rc={'figure.figsize': (12, 5)}\n",
    ")"
   ]
  },
  {
   "cell_type": "code",
   "execution_count": 4,
   "id": "818a870e-ec1c-4185-8dad-1f6c3a54cb09",
   "metadata": {},
   "outputs": [],
   "source": [
    "df = pd.read_csv(\"../data/2.9 conversion.csv\")"
   ]
  },
  {
   "cell_type": "code",
   "execution_count": 5,
   "id": "9ae5b5b7-4ae4-4008-b935-eb595f1799ca",
   "metadata": {},
   "outputs": [
    {
     "name": "stdout",
     "output_type": "stream",
     "text": [
      "<class 'pandas.core.frame.DataFrame'>\n",
      "RangeIndex: 1143 entries, 0 to 1142\n",
      "Data columns (total 11 columns):\n",
      " #   Column               Non-Null Count  Dtype  \n",
      "---  ------               --------------  -----  \n",
      " 0   ad_id                1143 non-null   int64  \n",
      " 1   xyz_campaign_id      1143 non-null   int64  \n",
      " 2   fb_campaign_id       1143 non-null   int64  \n",
      " 3   age                  1143 non-null   object \n",
      " 4   gender               1143 non-null   object \n",
      " 5   interest             1143 non-null   int64  \n",
      " 6   Impressions          1143 non-null   int64  \n",
      " 7   Clicks               1143 non-null   int64  \n",
      " 8   Spent                1143 non-null   float64\n",
      " 9   Total_Conversion     1143 non-null   int64  \n",
      " 10  Approved_Conversion  1143 non-null   int64  \n",
      "dtypes: float64(1), int64(8), object(2)\n",
      "memory usage: 98.4+ KB\n"
     ]
    }
   ],
   "source": [
    "df.info()"
   ]
  },
  {
   "cell_type": "code",
   "execution_count": 6,
   "id": "40b0b02c-4836-4a25-96ef-b275b65b3b3f",
   "metadata": {},
   "outputs": [
    {
     "data": {
      "text/html": [
       "<div>\n",
       "<style scoped>\n",
       "    .dataframe tbody tr th:only-of-type {\n",
       "        vertical-align: middle;\n",
       "    }\n",
       "\n",
       "    .dataframe tbody tr th {\n",
       "        vertical-align: top;\n",
       "    }\n",
       "\n",
       "    .dataframe thead th {\n",
       "        text-align: right;\n",
       "    }\n",
       "</style>\n",
       "<table border=\"1\" class=\"dataframe\">\n",
       "  <thead>\n",
       "    <tr style=\"text-align: right;\">\n",
       "      <th></th>\n",
       "      <th>ad_id</th>\n",
       "      <th>xyz_campaign_id</th>\n",
       "      <th>fb_campaign_id</th>\n",
       "      <th>age</th>\n",
       "      <th>gender</th>\n",
       "      <th>interest</th>\n",
       "      <th>Impressions</th>\n",
       "      <th>Clicks</th>\n",
       "      <th>Spent</th>\n",
       "      <th>Total_Conversion</th>\n",
       "      <th>Approved_Conversion</th>\n",
       "    </tr>\n",
       "  </thead>\n",
       "  <tbody>\n",
       "    <tr>\n",
       "      <th>0</th>\n",
       "      <td>708746</td>\n",
       "      <td>916</td>\n",
       "      <td>103916</td>\n",
       "      <td>30-34</td>\n",
       "      <td>M</td>\n",
       "      <td>15</td>\n",
       "      <td>7350</td>\n",
       "      <td>1</td>\n",
       "      <td>1.43</td>\n",
       "      <td>2</td>\n",
       "      <td>1</td>\n",
       "    </tr>\n",
       "    <tr>\n",
       "      <th>1</th>\n",
       "      <td>708749</td>\n",
       "      <td>916</td>\n",
       "      <td>103917</td>\n",
       "      <td>30-34</td>\n",
       "      <td>M</td>\n",
       "      <td>16</td>\n",
       "      <td>17861</td>\n",
       "      <td>2</td>\n",
       "      <td>1.82</td>\n",
       "      <td>2</td>\n",
       "      <td>0</td>\n",
       "    </tr>\n",
       "    <tr>\n",
       "      <th>2</th>\n",
       "      <td>708771</td>\n",
       "      <td>916</td>\n",
       "      <td>103920</td>\n",
       "      <td>30-34</td>\n",
       "      <td>M</td>\n",
       "      <td>20</td>\n",
       "      <td>693</td>\n",
       "      <td>0</td>\n",
       "      <td>0.00</td>\n",
       "      <td>1</td>\n",
       "      <td>0</td>\n",
       "    </tr>\n",
       "    <tr>\n",
       "      <th>3</th>\n",
       "      <td>708815</td>\n",
       "      <td>916</td>\n",
       "      <td>103928</td>\n",
       "      <td>30-34</td>\n",
       "      <td>M</td>\n",
       "      <td>28</td>\n",
       "      <td>4259</td>\n",
       "      <td>1</td>\n",
       "      <td>1.25</td>\n",
       "      <td>1</td>\n",
       "      <td>0</td>\n",
       "    </tr>\n",
       "    <tr>\n",
       "      <th>4</th>\n",
       "      <td>708818</td>\n",
       "      <td>916</td>\n",
       "      <td>103928</td>\n",
       "      <td>30-34</td>\n",
       "      <td>M</td>\n",
       "      <td>28</td>\n",
       "      <td>4133</td>\n",
       "      <td>1</td>\n",
       "      <td>1.29</td>\n",
       "      <td>1</td>\n",
       "      <td>1</td>\n",
       "    </tr>\n",
       "  </tbody>\n",
       "</table>\n",
       "</div>"
      ],
      "text/plain": [
       "    ad_id  xyz_campaign_id  fb_campaign_id    age gender  interest  \\\n",
       "0  708746              916          103916  30-34      M        15   \n",
       "1  708749              916          103917  30-34      M        16   \n",
       "2  708771              916          103920  30-34      M        20   \n",
       "3  708815              916          103928  30-34      M        28   \n",
       "4  708818              916          103928  30-34      M        28   \n",
       "\n",
       "   Impressions  Clicks  Spent  Total_Conversion  Approved_Conversion  \n",
       "0         7350       1   1.43                 2                    1  \n",
       "1        17861       2   1.82                 2                    0  \n",
       "2          693       0   0.00                 1                    0  \n",
       "3         4259       1   1.25                 1                    0  \n",
       "4         4133       1   1.29                 1                    1  "
      ]
     },
     "execution_count": 6,
     "metadata": {},
     "output_type": "execute_result"
    }
   ],
   "source": [
    "df.head()"
   ]
  },
  {
   "cell_type": "markdown",
   "id": "970bf857-ee5c-485a-ad27-09100847680e",
   "metadata": {},
   "source": [
    "# Задание 1\n",
    "## Построить график распределения заказов"
   ]
  },
  {
   "cell_type": "code",
   "execution_count": 23,
   "id": "97e01a91-e862-4017-b43c-f176a64a4c2e",
   "metadata": {},
   "outputs": [
    {
     "name": "stderr",
     "output_type": "stream",
     "text": [
      "e:\\Users\\burmos_aa\\AppData\\Local\\anaconda3\\Lib\\site-packages\\seaborn\\_oldcore.py:1119: FutureWarning: use_inf_as_na option is deprecated and will be removed in a future version. Convert inf values to NaN before operating instead.\n",
      "  with pd.option_context('mode.use_inf_as_na', True):\n"
     ]
    },
    {
     "data": {
      "text/plain": [
       "<Axes: xlabel='Impressions', ylabel='Count'>"
      ]
     },
     "execution_count": 23,
     "metadata": {},
     "output_type": "execute_result"
    },
    {
     "data": {
      "image/png": "[encoded data removed]",
      "text/plain": [
       "<Figure size 1200x500 with 1 Axes>"
      ]
     },
     "metadata": {},
     "output_type": "display_data"
    }
   ],
   "source": [
    "sns.histplot(np.log(df.groupby('fb_campaign_id').Impressions.sum()), kde=False, bins=50)"
   ]
  },
  {
   "cell_type": "markdown",
   "id": "a9a3e49e-ac23-499f-bdb1-6250d39a82d6",
   "metadata": {},
   "source": [
    "# Задание 2\n",
    "## Добавить CTR и построить график распределения"
   ]
  },
  {
   "cell_type": "code",
   "execution_count": 26,
   "id": "bfcd57f1-6e9a-4cdd-9f82-9c8e4c149e44",
   "metadata": {},
   "outputs": [],
   "source": [
    "df['ctr'] = df.Clicks / df.Impressions"
   ]
  },
  {
   "cell_type": "code",
   "execution_count": 35,
   "id": "45354754-3b73-4a04-812d-d38967aaf38e",
   "metadata": {},
   "outputs": [
    {
     "data": {
      "text/plain": [
       "ModeResult(mode=0.0, count=207)"
      ]
     },
     "execution_count": 35,
     "metadata": {},
     "output_type": "execute_result"
    }
   ],
   "source": [
    "stats.mode(df.ctr)"
   ]
  },
  {
   "cell_type": "code",
   "execution_count": 37,
   "id": "ce1f8628-0b96-4927-8af3-671d7729d1c3",
   "metadata": {},
   "outputs": [
    {
     "data": {
      "text/plain": [
       "count    1143.000000\n",
       "mean        0.000164\n",
       "std         0.000115\n",
       "min         0.000000\n",
       "25%         0.000100\n",
       "50%         0.000160\n",
       "75%         0.000234\n",
       "max         0.001059\n",
       "dtype: float64"
      ]
     },
     "execution_count": 37,
     "metadata": {},
     "output_type": "execute_result"
    }
   ],
   "source": [
    "df.ctr.describe()"
   ]
  },
  {
   "cell_type": "code",
   "execution_count": 36,
   "id": "bf2f4463-005c-46c9-9cf8-7c2eaba29981",
   "metadata": {},
   "outputs": [
    {
     "name": "stderr",
     "output_type": "stream",
     "text": [
      "e:\\Users\\burmos_aa\\AppData\\Local\\anaconda3\\Lib\\site-packages\\pandas\\core\\arraylike.py:396: RuntimeWarning: divide by zero encountered in log\n",
      "  result = getattr(ufunc, method)(*inputs, **kwargs)\n",
      "e:\\Users\\burmos_aa\\AppData\\Local\\anaconda3\\Lib\\site-packages\\seaborn\\_oldcore.py:1119: FutureWarning: use_inf_as_na option is deprecated and will be removed in a future version. Convert inf values to NaN before operating instead.\n",
      "  with pd.option_context('mode.use_inf_as_na', True):\n"
     ]
    },
    {
     "data": {
      "text/plain": [
       "<Axes: ylabel='Count'>"
      ]
     },
     "execution_count": 36,
     "metadata": {},
     "output_type": "execute_result"
    },
    {
     "data": {
      "image/png": "[encoded data removed]",
      "text/plain": [
       "<Figure size 1200x500 with 1 Axes>"
      ]
     },
     "metadata": {},
     "output_type": "display_data"
    }
   ],
   "source": [
    "sns.histplot(np.log(df.ctr), kde=False, bins=50)"
   ]
  },
  {
   "cell_type": "markdown",
   "id": "182485fd-2017-411a-aa54-f9e0af27bdf3",
   "metadata": {},
   "source": [
    "# Задание 3\n",
    "## Проанализировать CTR по рекламным компаниям"
   ]
  },
  {
   "cell_type": "code",
   "execution_count": 39,
   "id": "e8594fce-0226-483b-9066-e12b2d5dd9c0",
   "metadata": {},
   "outputs": [],
   "source": [
    "df_xyz_campaign = df \\\n",
    "    .groupby('xyz_campaign_id') \\\n",
    "    .agg(\n",
    "        Clicks      = ('Clicks', 'sum'),\n",
    "        Impressions = ('Impressions', 'sum'),\n",
    "    )"
   ]
  },
  {
   "cell_type": "code",
   "execution_count": 40,
   "id": "5e1d2582-bf8c-40ed-b7fd-0ccc54083b6e",
   "metadata": {},
   "outputs": [],
   "source": [
    "df_xyz_campaign['ctr'] = df_xyz_campaign.Clicks / df_xyz_campaign.Impressions"
   ]
  },
  {
   "cell_type": "code",
   "execution_count": 42,
   "id": "ef2d8c27-769b-4d7e-8096-8d877a85b96f",
   "metadata": {},
   "outputs": [
    {
     "data": {
      "text/html": [
       "<div>\n",
       "<style scoped>\n",
       "    .dataframe tbody tr th:only-of-type {\n",
       "        vertical-align: middle;\n",
       "    }\n",
       "\n",
       "    .dataframe tbody tr th {\n",
       "        vertical-align: top;\n",
       "    }\n",
       "\n",
       "    .dataframe thead th {\n",
       "        text-align: right;\n",
       "    }\n",
       "</style>\n",
       "<table border=\"1\" class=\"dataframe\">\n",
       "  <thead>\n",
       "    <tr style=\"text-align: right;\">\n",
       "      <th></th>\n",
       "      <th>Clicks</th>\n",
       "      <th>Impressions</th>\n",
       "      <th>ctr</th>\n",
       "    </tr>\n",
       "    <tr>\n",
       "      <th>xyz_campaign_id</th>\n",
       "      <th></th>\n",
       "      <th></th>\n",
       "      <th></th>\n",
       "    </tr>\n",
       "  </thead>\n",
       "  <tbody>\n",
       "    <tr>\n",
       "      <th>936</th>\n",
       "      <td>1984</td>\n",
       "      <td>8128187</td>\n",
       "      <td>0.000244</td>\n",
       "    </tr>\n",
       "    <tr>\n",
       "      <th>916</th>\n",
       "      <td>113</td>\n",
       "      <td>482925</td>\n",
       "      <td>0.000234</td>\n",
       "    </tr>\n",
       "    <tr>\n",
       "      <th>1178</th>\n",
       "      <td>36068</td>\n",
       "      <td>204823716</td>\n",
       "      <td>0.000176</td>\n",
       "    </tr>\n",
       "  </tbody>\n",
       "</table>\n",
       "</div>"
      ],
      "text/plain": [
       "                 Clicks  Impressions       ctr\n",
       "xyz_campaign_id                               \n",
       "936                1984      8128187  0.000244\n",
       "916                 113       482925  0.000234\n",
       "1178              36068    204823716  0.000176"
      ]
     },
     "execution_count": 42,
     "metadata": {},
     "output_type": "execute_result"
    }
   ],
   "source": [
    "df_xyz_campaign.sort_values('ctr', ascending=False)"
   ]
  },
  {
   "cell_type": "markdown",
   "id": "30eb6151-e9f8-43b3-b638-7f19ae1d5db5",
   "metadata": {},
   "source": [
    "# Задание 4\n",
    "## Посчитать CPC и поиследовать его"
   ]
  },
  {
   "cell_type": "code",
   "execution_count": 45,
   "id": "a888873b-2a45-4b57-b88f-68308b13c33e",
   "metadata": {},
   "outputs": [],
   "source": [
    "df['cpc'] = (df.Spent / df.Clicks)"
   ]
  },
  {
   "cell_type": "code",
   "execution_count": 76,
   "id": "c0974c9a-baa7-4dd5-8f82-55a69da0eb75",
   "metadata": {},
   "outputs": [
    {
     "data": {
      "text/plain": [
       "Мода         1.380000\n",
       "Среднее      1.499347\n",
       "Медиана      1.498273\n",
       "IQR          0.254364\n",
       "Дисперсия    0.054232\n",
       "std          0.232879\n",
       "Name: cpc, dtype: float64"
      ]
     },
     "execution_count": 76,
     "metadata": {},
     "output_type": "execute_result"
    }
   ],
   "source": [
    "df.cpc.agg({\n",
    "    'Мода'     : lambda x: x.mode()[0],\n",
    "    'Среднее'  : 'mean',\n",
    "    'Медиана'  : 'median',\n",
    "    'IQR'      : lambda x: x.quantile(0.75) - x.quantile(0.25),\n",
    "    'Дисперсия': 'var',\n",
    "    'std'      : 'std',\n",
    "})"
   ]
  },
  {
   "cell_type": "markdown",
   "id": "8c84ee80-3e88-4572-8e16-68e6e3c9c72c",
   "metadata": {},
   "source": [
    "# Задание 5\n",
    "## Визуализировать CPC по полу"
   ]
  },
  {
   "cell_type": "code",
   "execution_count": 82,
   "id": "e82b4728-cd58-454c-a41b-bc2accce3188",
   "metadata": {},
   "outputs": [
    {
     "name": "stderr",
     "output_type": "stream",
     "text": [
      "e:\\Users\\burmos_aa\\AppData\\Local\\anaconda3\\Lib\\site-packages\\seaborn\\_oldcore.py:1119: FutureWarning: use_inf_as_na option is deprecated and will be removed in a future version. Convert inf values to NaN before operating instead.\n",
      "  with pd.option_context('mode.use_inf_as_na', True):\n"
     ]
    },
    {
     "data": {
      "text/plain": [
       "<Axes: xlabel='cpc', ylabel='Density'>"
      ]
     },
     "execution_count": 82,
     "metadata": {},
     "output_type": "execute_result"
    },
    {
     "data": {
      "image/png": "[encoded data removed]",
      "text/plain": [
       "<Figure size 1200x500 with 1 Axes>"
      ]
     },
     "metadata": {},
     "output_type": "display_data"
    }
   ],
   "source": [
    "sns.histplot(df, x='cpc', kde=False, hue='gender', common_norm=True, stat='density')"
   ]
  },
  {
   "cell_type": "markdown",
   "id": "908590b8-45df-4015-93bf-806d06ad62f3",
   "metadata": {},
   "source": [
    "# Задание 6\n",
    "## Считаю конверисю из клика в покупку"
   ]
  },
  {
   "cell_type": "code",
   "execution_count": 84,
   "id": "e4bb19a4-4064-45ec-8f88-845cda9d39ed",
   "metadata": {},
   "outputs": [],
   "source": [
    "df['Approved_Conversion_'] = (df.Approved_Conversion / df.Clicks).fillna(0)"
   ]
  },
  {
   "cell_type": "code",
   "execution_count": 88,
   "id": "f7c98630-6317-4b7b-a13c-5ee46e38460c",
   "metadata": {},
   "outputs": [
    {
     "data": {
      "text/html": [
       "<div>\n",
       "<style scoped>\n",
       "    .dataframe tbody tr th:only-of-type {\n",
       "        vertical-align: middle;\n",
       "    }\n",
       "\n",
       "    .dataframe tbody tr th {\n",
       "        vertical-align: top;\n",
       "    }\n",
       "\n",
       "    .dataframe thead th {\n",
       "        text-align: right;\n",
       "    }\n",
       "</style>\n",
       "<table border=\"1\" class=\"dataframe\">\n",
       "  <thead>\n",
       "    <tr style=\"text-align: right;\">\n",
       "      <th></th>\n",
       "      <th>ad_id</th>\n",
       "      <th>xyz_campaign_id</th>\n",
       "      <th>fb_campaign_id</th>\n",
       "      <th>age</th>\n",
       "      <th>gender</th>\n",
       "      <th>interest</th>\n",
       "      <th>Impressions</th>\n",
       "      <th>Clicks</th>\n",
       "      <th>Spent</th>\n",
       "      <th>Total_Conversion</th>\n",
       "      <th>Approved_Conversion</th>\n",
       "      <th>ctr</th>\n",
       "      <th>cpc</th>\n",
       "      <th>Approved_Conversion_</th>\n",
       "    </tr>\n",
       "  </thead>\n",
       "  <tbody>\n",
       "    <tr>\n",
       "      <th>0</th>\n",
       "      <td>708746</td>\n",
       "      <td>916</td>\n",
       "      <td>103916</td>\n",
       "      <td>30-34</td>\n",
       "      <td>M</td>\n",
       "      <td>15</td>\n",
       "      <td>7350</td>\n",
       "      <td>1</td>\n",
       "      <td>1.43</td>\n",
       "      <td>2</td>\n",
       "      <td>1</td>\n",
       "      <td>0.000136</td>\n",
       "      <td>1.43</td>\n",
       "      <td>1.0</td>\n",
       "    </tr>\n",
       "    <tr>\n",
       "      <th>1</th>\n",
       "      <td>708749</td>\n",
       "      <td>916</td>\n",
       "      <td>103917</td>\n",
       "      <td>30-34</td>\n",
       "      <td>M</td>\n",
       "      <td>16</td>\n",
       "      <td>17861</td>\n",
       "      <td>2</td>\n",
       "      <td>1.82</td>\n",
       "      <td>2</td>\n",
       "      <td>0</td>\n",
       "      <td>0.000112</td>\n",
       "      <td>0.91</td>\n",
       "      <td>0.0</td>\n",
       "    </tr>\n",
       "    <tr>\n",
       "      <th>2</th>\n",
       "      <td>708771</td>\n",
       "      <td>916</td>\n",
       "      <td>103920</td>\n",
       "      <td>30-34</td>\n",
       "      <td>M</td>\n",
       "      <td>20</td>\n",
       "      <td>693</td>\n",
       "      <td>0</td>\n",
       "      <td>0.00</td>\n",
       "      <td>1</td>\n",
       "      <td>0</td>\n",
       "      <td>0.000000</td>\n",
       "      <td>NaN</td>\n",
       "      <td>0.0</td>\n",
       "    </tr>\n",
       "    <tr>\n",
       "      <th>3</th>\n",
       "      <td>708815</td>\n",
       "      <td>916</td>\n",
       "      <td>103928</td>\n",
       "      <td>30-34</td>\n",
       "      <td>M</td>\n",
       "      <td>28</td>\n",
       "      <td>4259</td>\n",
       "      <td>1</td>\n",
       "      <td>1.25</td>\n",
       "      <td>1</td>\n",
       "      <td>0</td>\n",
       "      <td>0.000235</td>\n",
       "      <td>1.25</td>\n",
       "      <td>0.0</td>\n",
       "    </tr>\n",
       "    <tr>\n",
       "      <th>4</th>\n",
       "      <td>708818</td>\n",
       "      <td>916</td>\n",
       "      <td>103928</td>\n",
       "      <td>30-34</td>\n",
       "      <td>M</td>\n",
       "      <td>28</td>\n",
       "      <td>4133</td>\n",
       "      <td>1</td>\n",
       "      <td>1.29</td>\n",
       "      <td>1</td>\n",
       "      <td>1</td>\n",
       "      <td>0.000242</td>\n",
       "      <td>1.29</td>\n",
       "      <td>1.0</td>\n",
       "    </tr>\n",
       "    <tr>\n",
       "      <th>...</th>\n",
       "      <td>...</td>\n",
       "      <td>...</td>\n",
       "      <td>...</td>\n",
       "      <td>...</td>\n",
       "      <td>...</td>\n",
       "      <td>...</td>\n",
       "      <td>...</td>\n",
       "      <td>...</td>\n",
       "      <td>...</td>\n",
       "      <td>...</td>\n",
       "      <td>...</td>\n",
       "      <td>...</td>\n",
       "      <td>...</td>\n",
       "      <td>...</td>\n",
       "    </tr>\n",
       "    <tr>\n",
       "      <th>95</th>\n",
       "      <td>735033</td>\n",
       "      <td>936</td>\n",
       "      <td>108792</td>\n",
       "      <td>35-39</td>\n",
       "      <td>F</td>\n",
       "      <td>36</td>\n",
       "      <td>652</td>\n",
       "      <td>0</td>\n",
       "      <td>0.00</td>\n",
       "      <td>0</td>\n",
       "      <td>0</td>\n",
       "      <td>0.000000</td>\n",
       "      <td>NaN</td>\n",
       "      <td>0.0</td>\n",
       "    </tr>\n",
       "    <tr>\n",
       "      <th>96</th>\n",
       "      <td>735043</td>\n",
       "      <td>936</td>\n",
       "      <td>108793</td>\n",
       "      <td>35-39</td>\n",
       "      <td>F</td>\n",
       "      <td>63</td>\n",
       "      <td>1357</td>\n",
       "      <td>0</td>\n",
       "      <td>0.00</td>\n",
       "      <td>1</td>\n",
       "      <td>1</td>\n",
       "      <td>0.000000</td>\n",
       "      <td>NaN</td>\n",
       "      <td>inf</td>\n",
       "    </tr>\n",
       "    <tr>\n",
       "      <th>97</th>\n",
       "      <td>735048</td>\n",
       "      <td>936</td>\n",
       "      <td>108794</td>\n",
       "      <td>35-39</td>\n",
       "      <td>F</td>\n",
       "      <td>64</td>\n",
       "      <td>1393</td>\n",
       "      <td>0</td>\n",
       "      <td>0.00</td>\n",
       "      <td>1</td>\n",
       "      <td>0</td>\n",
       "      <td>0.000000</td>\n",
       "      <td>NaN</td>\n",
       "      <td>0.0</td>\n",
       "    </tr>\n",
       "    <tr>\n",
       "      <th>98</th>\n",
       "      <td>735065</td>\n",
       "      <td>936</td>\n",
       "      <td>108797</td>\n",
       "      <td>40-44</td>\n",
       "      <td>F</td>\n",
       "      <td>7</td>\n",
       "      <td>648</td>\n",
       "      <td>0</td>\n",
       "      <td>0.00</td>\n",
       "      <td>1</td>\n",
       "      <td>0</td>\n",
       "      <td>0.000000</td>\n",
       "      <td>NaN</td>\n",
       "      <td>0.0</td>\n",
       "    </tr>\n",
       "    <tr>\n",
       "      <th>99</th>\n",
       "      <td>735109</td>\n",
       "      <td>936</td>\n",
       "      <td>108804</td>\n",
       "      <td>40-44</td>\n",
       "      <td>F</td>\n",
       "      <td>21</td>\n",
       "      <td>708</td>\n",
       "      <td>0</td>\n",
       "      <td>0.00</td>\n",
       "      <td>1</td>\n",
       "      <td>1</td>\n",
       "      <td>0.000000</td>\n",
       "      <td>NaN</td>\n",
       "      <td>inf</td>\n",
       "    </tr>\n",
       "  </tbody>\n",
       "</table>\n",
       "<p>100 rows × 14 columns</p>\n",
       "</div>"
      ],
      "text/plain": [
       "     ad_id  xyz_campaign_id  fb_campaign_id    age gender  interest  \\\n",
       "0   708746              916          103916  30-34      M        15   \n",
       "1   708749              916          103917  30-34      M        16   \n",
       "2   708771              916          103920  30-34      M        20   \n",
       "3   708815              916          103928  30-34      M        28   \n",
       "4   708818              916          103928  30-34      M        28   \n",
       "..     ...              ...             ...    ...    ...       ...   \n",
       "95  735033              936          108792  35-39      F        36   \n",
       "96  735043              936          108793  35-39      F        63   \n",
       "97  735048              936          108794  35-39      F        64   \n",
       "98  735065              936          108797  40-44      F         7   \n",
       "99  735109              936          108804  40-44      F        21   \n",
       "\n",
       "    Impressions  Clicks  Spent  Total_Conversion  Approved_Conversion  \\\n",
       "0          7350       1   1.43                 2                    1   \n",
       "1         17861       2   1.82                 2                    0   \n",
       "2           693       0   0.00                 1                    0   \n",
       "3          4259       1   1.25                 1                    0   \n",
       "4          4133       1   1.29                 1                    1   \n",
       "..          ...     ...    ...               ...                  ...   \n",
       "95          652       0   0.00                 0                    0   \n",
       "96         1357       0   0.00                 1                    1   \n",
       "97         1393       0   0.00                 1                    0   \n",
       "98          648       0   0.00                 1                    0   \n",
       "99          708       0   0.00                 1                    1   \n",
       "\n",
       "         ctr   cpc  Approved_Conversion_  \n",
       "0   0.000136  1.43                   1.0  \n",
       "1   0.000112  0.91                   0.0  \n",
       "2   0.000000   NaN                   0.0  \n",
       "3   0.000235  1.25                   0.0  \n",
       "4   0.000242  1.29                   1.0  \n",
       "..       ...   ...                   ...  \n",
       "95  0.000000   NaN                   0.0  \n",
       "96  0.000000   NaN                   inf  \n",
       "97  0.000000   NaN                   0.0  \n",
       "98  0.000000   NaN                   0.0  \n",
       "99  0.000000   NaN                   inf  \n",
       "\n",
       "[100 rows x 14 columns]"
      ]
     },
     "execution_count": 88,
     "metadata": {},
     "output_type": "execute_result"
    }
   ],
   "source": [
    "df.head(100)"
   ]
  },
  {
   "cell_type": "code",
   "execution_count": null,
   "id": "02904f14-5535-4362-afe0-4a7976d56eb4",
   "metadata": {},
   "outputs": [],
   "source": []
  },
  {
   "cell_type": "code",
   "execution_count": null,
   "id": "11466bbc-f434-4495-a6cf-f7f2108aac1a",
   "metadata": {},
   "outputs": [],
   "source": []
  }
 ],
 "metadata": {
  "kernelspec": {
   "display_name": "Python 3 (ipykernel)",
   "language": "python",
   "name": "python3"
  },
  "language_info": {
   "codemirror_mode": {
    "name": "ipython",
    "version": 3
   },
   "file_extension": ".py",
   "mimetype": "text/x-python",
   "name": "python",
   "nbconvert_exporter": "python",
   "pygments_lexer": "ipython3",
   "version": "3.11.7"
  }
 },
 "nbformat": 4,
 "nbformat_minor": 5
}
